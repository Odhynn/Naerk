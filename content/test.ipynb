{
 "cells": [
  {
   "cell_type": "code",
   "execution_count": 35,
   "metadata": {},
   "outputs": [],
   "source": [
    "#import modules\n",
    "import os\n",
    "import glob\n",
    "import pandas as pd\n",
    "\n",
    "os.chdir(r'/home/ulysses/Documents/Naerk/naerk-wiki/quartz/content/Gods/.data')\n",
    "extension = 'tsv'\n",
    "all_filenames = [i for i in glob.glob('*.{}'.format(extension))]\n",
    "\n",
    "dataframes = []  # List to store the DataFrames\n",
    "\n",
    "for csv_file in all_filenames:\n",
    "    df = pd.read_csv(csv_file, sep='\\t')\n",
    "    dataframes.append(df)\n",
    "\n",
    "merged_df = pd.merge(dataframes[0], dataframes[1], on='Name')\n",
    "\n",
    "for i in range(2, len(dataframes)):\n",
    "    merged_df = pd.merge(merged_df, dataframes[i], on='Name')\n",
    "\n",
    "final = merged_df.set_index('Name').transpose()\n",
    "# final.set_index(\"Name\")"
   ]
  },
  {
   "cell_type": "code",
   "execution_count": 40,
   "metadata": {},
   "outputs": [],
   "source": [
    "final.to_csv('gods-20240215.xlsx')"
   ]
  }
 ],
 "metadata": {
  "kernelspec": {
   "display_name": "Python 3",
   "language": "python",
   "name": "python3"
  },
  "language_info": {
   "codemirror_mode": {
    "name": "ipython",
    "version": 3
   },
   "file_extension": ".py",
   "mimetype": "text/x-python",
   "name": "python",
   "nbconvert_exporter": "python",
   "pygments_lexer": "ipython3",
   "version": "3.10.12"
  }
 },
 "nbformat": 4,
 "nbformat_minor": 2
}
