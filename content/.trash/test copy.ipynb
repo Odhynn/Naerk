{
 "cells": [
  {
   "cell_type": "code",
   "execution_count": 2,
   "metadata": {},
   "outputs": [],
   "source": [
    "import os\n",
    "import pandas as pd\n",
    "\n",
    "directory = 'path/to/directory'  # Specify the directory where your markdown files are located\n",
    "\n",
    "for filename in os.listdir(directory):\n",
    "    if filename.endswith('.md'):\n",
    "        file_path = os.path.join(directory, filename)\n",
    "\n",
    "        with open(file_path, 'r') as file:\n",
    "            content = file.read()\n",
    "\n",
    "        tables = pd.read_html(content, flavor='markdown')  # Read markdown tables using pandas\n",
    "\n",
    "        for table in tables:\n",
    "            print(table)"
   ]
  }
 ],
 "metadata": {
  "kernelspec": {
   "display_name": "Python 3",
   "language": "python",
   "name": "python3"
  },
  "language_info": {
   "codemirror_mode": {
    "name": "ipython",
    "version": 3
   },
   "file_extension": ".py",
   "mimetype": "text/x-python",
   "name": "python",
   "nbconvert_exporter": "python",
   "pygments_lexer": "ipython3",
   "version": "3.10.12"
  }
 },
 "nbformat": 4,
 "nbformat_minor": 2
}
