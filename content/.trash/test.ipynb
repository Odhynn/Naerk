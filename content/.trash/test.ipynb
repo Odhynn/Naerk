{
 "cells": [
  {
   "cell_type": "code",
   "execution_count": 49,
   "metadata": {},
   "outputs": [],
   "source": [
    "import os\n",
    "import re\n",
    "\n",
    "directory = '/home/ulysses/Documents/Naerk/naerk-wiki/quartz/content/Gods'  # Specify the directory where your markdown files are located\n",
    "\n",
    "if not os.path.exists(f\"{directory}/.csv\"): \n",
    "    os.makedirs(f\"{directory}/.csv\") \n",
    "for filename in os.listdir(directory):\n",
    "    if filename.endswith('.md'):\n",
    "        file_path = os.path.join(directory, filename)\n",
    "        # print (file_path)\n",
    "        # with open(file_path,'r') as f:\n",
    "        #     lines = f.readlines()\n",
    "\n",
    "        with open(file_path,'r') as input:\n",
    "            targets = [line for line in input if \"> > | \" in line]\n",
    "        name = filename.replace(\".md\",\"\")\n",
    "        with open(f\"{directory}/.csv/{name}.csv\", 'w') as output:\n",
    "            output.write(f\"attribute,{name}\\n\")\n",
    "            for line in targets:\n",
    "                parsed_line = line.replace(\",\",\";\")\n",
    "                parsed_line = parsed_line.replace(\"\\\"\",\"'\")\n",
    "                parsed_line = parsed_line.replace(\"> > | \",\"\")\n",
    "                parsed_line = parsed_line.replace(\" | \",\",\")\n",
    "                parsed_line = parsed_line.replace(\" |\",\"\")\n",
    "                parsed_line = re.sub(r\"\\[\\[(.*)\\|\", \"\", parsed_line)\n",
    "                parsed_line = parsed_line.replace(\"]]\",\"\")\n",
    "                parsed_line = parsed_line.replace(\"[[\",\"\")\n",
    "                parsed_line = parsed_line.replace(\"|\\n\",\"\")\n",
    "                parsed_line = parsed_line.replace(\"---,---\\n\",\"\")\n",
    "                output.write(parsed_line)"
   ]
  }
 ],
 "metadata": {
  "kernelspec": {
   "display_name": "Python 3",
   "language": "python",
   "name": "python3"
  },
  "language_info": {
   "codemirror_mode": {
    "name": "ipython",
    "version": 3
   },
   "file_extension": ".py",
   "mimetype": "text/x-python",
   "name": "python",
   "nbconvert_exporter": "python",
   "pygments_lexer": "ipython3",
   "version": "3.10.12"
  }
 },
 "nbformat": 4,
 "nbformat_minor": 2
}
