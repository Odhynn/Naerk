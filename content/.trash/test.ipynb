{
 "cells": [
  {
   "cell_type": "code",
   "execution_count": 3,
   "metadata": {},
   "outputs": [
    {
     "name": "stdout",
     "output_type": "stream",
     "text": [
      "[  Unnamed: 0                                         Unnamed: 1\n",
      "0      Title                                    “Fox’s Cunning”\n",
      "1   Category                                            Aspects\n",
      "2     Edicts  Lie and Deceive fools, Take advantage of situa...\n",
      "3  Portfolio             Stealth, Thievery, Malice, Luck, Night\n",
      "4   Anathema       Announce intentions, Give back stolen things\n",
      "5  Followers  Travelers, thieves, bagabonds, beggars, downtr...\n",
      "6   Pantheon                              Tribal, Elven, Goblin\n",
      "7      Plane                                 Evergrowing Forest,        Unnamed: 0                                         Unnamed: 1\n",
      "0  Divine Ability                          Dexterity or Intelligence\n",
      "1     Divine Font                                               Harm\n",
      "2    Divine Skill                                            Stealth\n",
      "3  Favored Weapon                                             Dagger\n",
      "4         Domains            Darkness, Luck, Moon, Secrecy, Trickery\n",
      "5   Cleric Spells  1st: Invisible Item, 2nd: Invisibility, 5th: C...]\n"
     ]
    }
   ],
   "source": [
    "import pandas as pd\n",
    "\n",
    "dfs = pd.read_html(\"http://odhynn.github.io/naerk/Gods/Berohath\")\n",
    "print (dfs)"
   ]
  },
  {
   "cell_type": "code",
   "execution_count": 6,
   "metadata": {},
   "outputs": [
    {
     "name": "stdout",
     "output_type": "stream",
     "text": [
      "       Unnamed: 0                                         Unnamed: 1\n",
      "0  Divine Ability                          Dexterity or Intelligence\n",
      "1     Divine Font                                               Harm\n",
      "2    Divine Skill                                            Stealth\n",
      "3  Favored Weapon                                             Dagger\n",
      "4         Domains            Darkness, Luck, Moon, Secrecy, Trickery\n",
      "5   Cleric Spells  1st: Invisible Item, 2nd: Invisibility, 5th: C...\n"
     ]
    }
   ],
   "source": [
    "print (dfs[1])"
   ]
  }
 ],
 "metadata": {
  "kernelspec": {
   "display_name": "Python 3",
   "language": "python",
   "name": "python3"
  },
  "language_info": {
   "codemirror_mode": {
    "name": "ipython",
    "version": 3
   },
   "file_extension": ".py",
   "mimetype": "text/x-python",
   "name": "python",
   "nbconvert_exporter": "python",
   "pygments_lexer": "ipython3",
   "version": "3.10.12"
  }
 },
 "nbformat": 4,
 "nbformat_minor": 2
}
